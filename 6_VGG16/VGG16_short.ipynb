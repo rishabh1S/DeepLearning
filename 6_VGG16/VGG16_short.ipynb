{
  "cells": [
    {
      "cell_type": "code",
      "execution_count": 10,
      "id": "9cddfec0",
      "metadata": {
        "id": "9cddfec0"
      },
      "outputs": [],
      "source": [
        "import tensorflow as tf\n",
        "import pandas as pd\n",
        "from tensorflow.keras.datasets import cifar10 \n",
        "import matplotlib.pyplot as plt\n",
        "import tensorflow.keras as K"
      ]
    },
    {
      "cell_type": "code",
      "execution_count": 11,
      "id": "01e35a61",
      "metadata": {
        "id": "01e35a61"
      },
      "outputs": [],
      "source": [
        "from keras.applications.vgg16 import VGG16"
      ]
    },
    {
      "cell_type": "code",
      "execution_count": 12,
      "id": "05ad02e0",
      "metadata": {
        "id": "05ad02e0"
      },
      "outputs": [],
      "source": [
        "from keras.utils import np_utils "
      ]
    },
    {
      "cell_type": "code",
      "execution_count": 13,
      "id": "55f19083",
      "metadata": {
        "id": "55f19083"
      },
      "outputs": [],
      "source": [
        "def preprocess_data(X, Y):\n",
        "        \"\"\" This method has the preprocess to train a model \"\"\"\n",
        "        X = X.astype('float32')\n",
        "        X_p = K.applications.vgg16.preprocess_input(X)\n",
        "        Y_p = K.utils.to_categorical(Y, 10)\n",
        "        return(X_p, Y_p)"
      ]
    },
    {
      "cell_type": "code",
      "execution_count": 14,
      "id": "6f8b0f1f",
      "metadata": {
        "id": "6f8b0f1f"
      },
      "outputs": [],
      "source": [
        "(Xt, Yt), (X, Y) = cifar10.load_data()"
      ]
    },
    {
      "cell_type": "code",
      "execution_count": 15,
      "id": "d63ad314",
      "metadata": {
        "id": "d63ad314"
      },
      "outputs": [],
      "source": [
        "X_p, Y_p = preprocess_data(Xt, Yt)\n",
        "Xv_p, Yv_p = preprocess_data(X, Y)"
      ]
    },
    {
      "cell_type": "code",
      "execution_count": 16,
      "id": "68e731ef",
      "metadata": {
        "id": "68e731ef"
      },
      "outputs": [],
      "source": [
        "base_model = VGG16(include_top=False,weights='imagenet',pooling='avg')"
      ]
    },
    {
      "cell_type": "code",
      "execution_count": 17,
      "id": "33d23fa0",
      "metadata": {
        "id": "33d23fa0"
      },
      "outputs": [],
      "source": [
        "from keras.models import Sequential, Model\n",
        "from keras.layers import Conv2D, MaxPool2D, Flatten, Dense, GlobalAveragePooling2D, Dropout, BatchNormalization, Input,UpSampling2D"
      ]
    },
    {
      "cell_type": "code",
      "execution_count": 18,
      "id": "66e7f2ff",
      "metadata": {
        "id": "66e7f2ff"
      },
      "outputs": [],
      "source": [
        "model= Sequential()\n",
        "model.add(UpSampling2D())\n",
        "model.add(base_model)\n",
        "model.add(Flatten())\n",
        "model.add(Dense(512, activation=('relu'))) \n",
        "model.add(Dropout(0.2))\n",
        "model.add(Dense(256, activation=('relu')))\n",
        "model.add(Dropout(0.2))\n",
        "model.add(Dense(10, activation=('softmax')))"
      ]
    },
    {
      "cell_type": "code",
      "execution_count": 19,
      "id": "97893e14",
      "metadata": {
        "colab": {
          "base_uri": "https://localhost:8080/"
        },
        "id": "97893e14",
        "outputId": "cfd4b87b-965a-4d62-d9b1-545f42da8398"
      },
      "outputs": [
        {
          "output_type": "execute_result",
          "data": {
            "text/plain": [
              "<bound method Model.summary of <keras.engine.sequential.Sequential object at 0x7f56e299d810>>"
            ]
          },
          "metadata": {},
          "execution_count": 19
        }
      ],
      "source": [
        "model.summary"
      ]
    },
    {
      "cell_type": "code",
      "execution_count": 20,
      "id": "0a28a550",
      "metadata": {
        "id": "0a28a550"
      },
      "outputs": [],
      "source": [
        "from keras.callbacks import ModelCheckpoint, EarlyStopping"
      ]
    },
    {
      "cell_type": "code",
      "execution_count": 21,
      "id": "d491d244",
      "metadata": {
        "id": "d491d244"
      },
      "outputs": [],
      "source": [
        "checkpoint = ModelCheckpoint(\"vgg16_1.h5\", monitor='val_accuracy', verbose=1, save_best_only=True, save_weights_only=False, mode='auto')\n",
        "early = EarlyStopping(monitor='val_accuracy', min_delta=0, patience=20, verbose=1, mode='auto')"
      ]
    },
    {
      "cell_type": "code",
      "execution_count": 22,
      "id": "59730f6e",
      "metadata": {
        "id": "59730f6e"
      },
      "outputs": [],
      "source": [
        "model.compile(optimizer='adam', loss='categorical_crossentropy',metrics=['accuracy'])"
      ]
    },
    {
      "cell_type": "code",
      "execution_count": 23,
      "id": "69f17eb7",
      "metadata": {
        "colab": {
          "base_uri": "https://localhost:8080/"
        },
        "id": "69f17eb7",
        "outputId": "8970dae8-f3d5-40b4-d56e-cd7e9e3f415f"
      },
      "outputs": [
        {
          "output_type": "stream",
          "name": "stdout",
          "text": [
            "Epoch 1/10\n",
            "391/391 [==============================] - ETA: 0s - loss: 2.1673 - accuracy: 0.1917\n",
            "Epoch 1: val_accuracy improved from -inf to 0.28400, saving model to vgg16_1.h5\n",
            "391/391 [==============================] - 67s 153ms/step - loss: 2.1673 - accuracy: 0.1917 - val_loss: 1.7730 - val_accuracy: 0.2840\n",
            "Epoch 2/10\n",
            "391/391 [==============================] - ETA: 0s - loss: 1.5847 - accuracy: 0.3918\n",
            "Epoch 2: val_accuracy improved from 0.28400 to 0.48640, saving model to vgg16_1.h5\n",
            "391/391 [==============================] - 59s 150ms/step - loss: 1.5847 - accuracy: 0.3918 - val_loss: 1.3564 - val_accuracy: 0.4864\n",
            "Epoch 3/10\n",
            "391/391 [==============================] - ETA: 0s - loss: 1.2287 - accuracy: 0.5502\n",
            "Epoch 3: val_accuracy improved from 0.48640 to 0.61280, saving model to vgg16_1.h5\n",
            "391/391 [==============================] - 60s 153ms/step - loss: 1.2287 - accuracy: 0.5502 - val_loss: 1.0605 - val_accuracy: 0.6128\n",
            "Epoch 4/10\n",
            "391/391 [==============================] - ETA: 0s - loss: 0.9960 - accuracy: 0.6483\n",
            "Epoch 4: val_accuracy improved from 0.61280 to 0.63010, saving model to vgg16_1.h5\n",
            "391/391 [==============================] - 62s 158ms/step - loss: 0.9960 - accuracy: 0.6483 - val_loss: 1.0356 - val_accuracy: 0.6301\n",
            "Epoch 5/10\n",
            "391/391 [==============================] - ETA: 0s - loss: 0.8587 - accuracy: 0.7018\n",
            "Epoch 5: val_accuracy improved from 0.63010 to 0.69860, saving model to vgg16_1.h5\n",
            "391/391 [==============================] - 61s 157ms/step - loss: 0.8587 - accuracy: 0.7018 - val_loss: 0.9109 - val_accuracy: 0.6986\n",
            "Epoch 6/10\n",
            "391/391 [==============================] - ETA: 0s - loss: 0.7541 - accuracy: 0.7414\n",
            "Epoch 6: val_accuracy improved from 0.69860 to 0.73730, saving model to vgg16_1.h5\n",
            "391/391 [==============================] - 61s 157ms/step - loss: 0.7541 - accuracy: 0.7414 - val_loss: 0.7735 - val_accuracy: 0.7373\n",
            "Epoch 7/10\n",
            "391/391 [==============================] - ETA: 0s - loss: 0.6680 - accuracy: 0.7732\n",
            "Epoch 7: val_accuracy improved from 0.73730 to 0.76300, saving model to vgg16_1.h5\n",
            "391/391 [==============================] - 61s 157ms/step - loss: 0.6680 - accuracy: 0.7732 - val_loss: 0.7277 - val_accuracy: 0.7630\n",
            "Epoch 8/10\n",
            "391/391 [==============================] - ETA: 0s - loss: 0.5973 - accuracy: 0.7976\n",
            "Epoch 8: val_accuracy did not improve from 0.76300\n",
            "391/391 [==============================] - 61s 156ms/step - loss: 0.5973 - accuracy: 0.7976 - val_loss: 0.6943 - val_accuracy: 0.7609\n",
            "Epoch 9/10\n",
            "391/391 [==============================] - ETA: 0s - loss: 0.5468 - accuracy: 0.8171\n",
            "Epoch 9: val_accuracy improved from 0.76300 to 0.77320, saving model to vgg16_1.h5\n",
            "391/391 [==============================] - 61s 157ms/step - loss: 0.5468 - accuracy: 0.8171 - val_loss: 0.6927 - val_accuracy: 0.7732\n",
            "Epoch 10/10\n",
            "391/391 [==============================] - ETA: 0s - loss: 0.5158 - accuracy: 0.8259\n",
            "Epoch 10: val_accuracy did not improve from 0.77320\n",
            "391/391 [==============================] - 61s 155ms/step - loss: 0.5158 - accuracy: 0.8259 - val_loss: 0.6906 - val_accuracy: 0.7717\n",
            "Fitting the model completed.\n"
          ]
        }
      ],
      "source": [
        "history = model.fit(x=X_p, y=Y_p,\n",
        "              batch_size=128,\n",
        "              validation_data=(Xv_p, Yv_p),\n",
        "              epochs=10, shuffle=True,\n",
        "              callbacks=[checkpoint,early],\n",
        "              verbose=1\n",
        "              )\n",
        "print(\"Fitting the model completed.\")"
      ]
    },
    {
      "cell_type": "code",
      "source": [
        "# plot the loss and accuracy\n",
        "acc = history.history['accuracy']\n",
        "val_acc = history.history['val_accuracy']\n",
        "loss = history.history['loss']\n",
        "val_loss = history.history['val_loss']\n",
        "epochs = range(1, len(acc) + 1)\n",
        "\n",
        "plt.title('Training and validation accuracy')\n",
        "plt.plot(epochs, acc, 'red', label='Training acc')\n",
        "plt.plot(epochs, val_acc, 'blue', label='Validation acc')\n",
        "plt.legend()\n",
        "plt.figure()\n",
        "plt.show()"
      ],
      "metadata": {
        "colab": {
          "base_uri": "https://localhost:8080/",
          "height": 298
        },
        "id": "jDlg4VhAK4LB",
        "outputId": "3de0fbaf-3116-4a14-a37f-4c46126132e3"
      },
      "id": "jDlg4VhAK4LB",
      "execution_count": 25,
      "outputs": [
        {
          "output_type": "display_data",
          "data": {
            "text/plain": [
              "<Figure size 432x288 with 1 Axes>"
            ],
            "image/png": "[encoded data removed]"
          },
          "metadata": {
            "needs_background": "light"
          }
        },
        {
          "output_type": "display_data",
          "data": {
            "text/plain": [
              "<Figure size 432x288 with 0 Axes>"
            ]
          },
          "metadata": {}
        }
      ]
    }
  ],
  "metadata": {
    "kernelspec": {
      "display_name": "Python 3 (ipykernel)",
      "language": "python",
      "name": "python3"
    },
    "language_info": {
      "codemirror_mode": {
        "name": "ipython",
        "version": 3
      },
      "file_extension": ".py",
      "mimetype": "text/x-python",
      "name": "python",
      "nbconvert_exporter": "python",
      "pygments_lexer": "ipython3",
      "version": "3.9.7"
    },
    "colab": {
      "provenance": []
    },
    "accelerator": "GPU",
    "gpuClass": "standard"
  },
  "nbformat": 4,
  "nbformat_minor": 5
}