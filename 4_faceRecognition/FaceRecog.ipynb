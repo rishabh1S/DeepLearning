{
 "cells": [
  {
   "cell_type": "code",
   "execution_count": 37,
   "id": "e19f462a",
   "metadata": {},
   "outputs": [],
   "source": [
    "import numpy as np\n",
    "import pandas as pd\n",
    "import tensorflow as tf\n",
    "from tensorflow.keras import layers,models\n",
    "from tensorflow.keras.layers import Dense, Flatten, Conv2D, MaxPooling2D\n",
    "import matplotlib.pyplot as plt\n",
    "from tensorflow import keras\n",
    "from keras import Sequential"
   ]
  },
  {
   "cell_type": "code",
   "execution_count": 38,
   "id": "d606160e",
   "metadata": {},
   "outputs": [],
   "source": [
    "train=r'C:\\Users\\PREDATOR\\Desktop\\PadhaiKaro\\Training'\n",
    "test=r'C:\\Users\\PREDATOR\\Desktop\\PadhaiKaro\\Testing'"
   ]
  },
  {
   "cell_type": "code",
   "execution_count": 39,
   "id": "9666c455",
   "metadata": {},
   "outputs": [],
   "source": [
    "model1 = keras.Sequential(\n",
    "    [\n",
    "        keras.Input(shape=(224,224,3)),\n",
    "        layers.Conv2D(32, kernel_size=(3, 3), activation=\"relu\"),\n",
    "        layers.MaxPooling2D(pool_size=(2, 2)),\n",
    "        layers.Dropout(0.5),\n",
    "        layers.Conv2D(64, kernel_size=(3, 3), activation=\"relu\"),\n",
    "        layers.Conv2D(128, kernel_size=(3, 3), activation=\"relu\"),\n",
    "        layers.Conv2D(256, kernel_size=(3, 3), activation=\"relu\"),\n",
    "        layers.MaxPooling2D(pool_size=(2, 2)),\n",
    "        layers.Flatten(),\n",
    "        layers.Dropout(0.5),\n",
    "        layers.Dense(8, activation=\"softmax\"),\n",
    "    ]\n",
    ")"
   ]
  },
  {
   "cell_type": "code",
   "execution_count": 40,
   "id": "45171d91",
   "metadata": {},
   "outputs": [
    {
     "name": "stdout",
     "output_type": "stream",
     "text": [
      "Model: \"sequential_1\"\n",
      "_________________________________________________________________\n",
      " Layer (type)                Output Shape              Param #   \n",
      "=================================================================\n",
      " conv2d_4 (Conv2D)           (None, 222, 222, 32)      896       \n",
      "                                                                 \n",
      " max_pooling2d_2 (MaxPooling  (None, 111, 111, 32)     0         \n",
      " 2D)                                                             \n",
      "                                                                 \n",
      " dropout_2 (Dropout)         (None, 111, 111, 32)      0         \n",
      "                                                                 \n",
      " conv2d_5 (Conv2D)           (None, 109, 109, 64)      18496     \n",
      "                                                                 \n",
      " conv2d_6 (Conv2D)           (None, 107, 107, 128)     73856     \n",
      "                                                                 \n",
      " conv2d_7 (Conv2D)           (None, 105, 105, 256)     295168    \n",
      "                                                                 \n",
      " max_pooling2d_3 (MaxPooling  (None, 52, 52, 256)      0         \n",
      " 2D)                                                             \n",
      "                                                                 \n",
      " flatten_1 (Flatten)         (None, 692224)            0         \n",
      "                                                                 \n",
      " dropout_3 (Dropout)         (None, 692224)            0         \n",
      "                                                                 \n",
      " dense_1 (Dense)             (None, 8)                 5537800   \n",
      "                                                                 \n",
      "=================================================================\n",
      "Total params: 5,926,216\n",
      "Trainable params: 5,926,216\n",
      "Non-trainable params: 0\n",
      "_________________________________________________________________\n"
     ]
    }
   ],
   "source": [
    "model1.summary()"
   ]
  },
  {
   "cell_type": "code",
   "execution_count": 41,
   "id": "c806c851",
   "metadata": {},
   "outputs": [],
   "source": [
    "model1.compile(loss='binary_crossentropy',metrics=['accuracy'],optimizer='adam')"
   ]
  },
  {
   "cell_type": "code",
   "execution_count": 42,
   "id": "68369820",
   "metadata": {},
   "outputs": [],
   "source": [
    "from keras.preprocessing.image import ImageDataGenerator"
   ]
  },
  {
   "cell_type": "code",
   "execution_count": 43,
   "id": "c32ac8c4",
   "metadata": {},
   "outputs": [],
   "source": [
    "TrainDI=ImageDataGenerator(\n",
    "shear_range=0.2,\n",
    "zoom_range=0.2,\n",
    "horizontal_flip=True\n",
    ")"
   ]
  },
  {
   "cell_type": "code",
   "execution_count": 44,
   "id": "5f7285d6",
   "metadata": {},
   "outputs": [],
   "source": [
    "TestDI=ImageDataGenerator(\n",
    "shear_range=0.2,\n",
    "zoom_range=0.2,\n",
    "horizontal_flip=True\n",
    ")"
   ]
  },
  {
   "cell_type": "code",
   "execution_count": 45,
   "id": "d075475a",
   "metadata": {},
   "outputs": [
    {
     "name": "stdout",
     "output_type": "stream",
     "text": [
      "Found 176 images belonging to 8 classes.\n"
     ]
    }
   ],
   "source": [
    "Train_set=TrainDI.flow_from_directory(\n",
    "    train,\n",
    "    target_size=(224,224),\n",
    "    batch_size=4,\n",
    "    class_mode='categorical'\n",
    "    \n",
    ")"
   ]
  },
  {
   "cell_type": "code",
   "execution_count": 46,
   "id": "63bd2831",
   "metadata": {},
   "outputs": [
    {
     "name": "stdout",
     "output_type": "stream",
     "text": [
      "Found 64 images belonging to 8 classes.\n"
     ]
    }
   ],
   "source": [
    "Test_set=TestDI.flow_from_directory(\n",
    "    test,\n",
    "    target_size=(224,224),\n",
    "    batch_size=4,\n",
    "    class_mode='categorical' \n",
    ")"
   ]
  },
  {
   "cell_type": "code",
   "execution_count": 47,
   "id": "9daebe5d",
   "metadata": {},
   "outputs": [
    {
     "data": {
      "text/plain": [
       "{'Nikita': 0,\n",
       " 'Nishant': 1,\n",
       " 'Raju': 2,\n",
       " 'Rayushka': 3,\n",
       " 'Sakshi': 4,\n",
       " 'Sameeksha': 5,\n",
       " 'Shivam': 6,\n",
       " 'Yogesh': 7}"
      ]
     },
     "execution_count": 47,
     "metadata": {},
     "output_type": "execute_result"
    }
   ],
   "source": [
    "Test_set.class_indices"
   ]
  },
  {
   "cell_type": "code",
   "execution_count": 48,
   "id": "f852f22b",
   "metadata": {},
   "outputs": [
    {
     "name": "stdout",
     "output_type": "stream",
     "text": [
      "{'Nikita': 0, 'Nishant': 1, 'Raju': 2, 'Rayushka': 3, 'Sakshi': 4, 'Sameeksha': 5, 'Shivam': 6, 'Yogesh': 7}\n"
     ]
    }
   ],
   "source": [
    "TrainClasses=Train_set.class_indices\n",
    "Resultmap={}\n",
    "\n",
    "for facevalue,facename in zip(TrainClasses.values(),TrainClasses.keys()):\n",
    "    Resultmap[facename]=facevalue\n",
    "\n",
    "print(Resultmap)\n"
   ]
  },
  {
   "cell_type": "code",
   "execution_count": 49,
   "id": "59ca7f9d",
   "metadata": {},
   "outputs": [
    {
     "name": "stdout",
     "output_type": "stream",
     "text": [
      "Epoch 1/10\n",
      "44/44 [==============================] - 20s 429ms/step - loss: 29.8814 - accuracy: 0.0909\n",
      "Epoch 2/10\n",
      "44/44 [==============================] - 19s 439ms/step - loss: 0.4191 - accuracy: 0.1364\n",
      "Epoch 3/10\n",
      "44/44 [==============================] - 22s 509ms/step - loss: 0.3674 - accuracy: 0.3523\n",
      "Epoch 4/10\n",
      "44/44 [==============================] - 20s 457ms/step - loss: 0.2433 - accuracy: 0.6761\n",
      "Epoch 5/10\n",
      "44/44 [==============================] - 21s 478ms/step - loss: 0.1315 - accuracy: 0.8409\n",
      "Epoch 6/10\n",
      "44/44 [==============================] - 20s 464ms/step - loss: 0.0861 - accuracy: 0.9318\n",
      "Epoch 7/10\n",
      "44/44 [==============================] - 20s 462ms/step - loss: 0.0675 - accuracy: 0.9432\n",
      "Epoch 8/10\n",
      "44/44 [==============================] - 20s 461ms/step - loss: 0.0389 - accuracy: 0.9716\n",
      "Epoch 9/10\n",
      "44/44 [==============================] - 20s 462ms/step - loss: 0.0338 - accuracy: 0.9773\n",
      "Epoch 10/10\n",
      "44/44 [==============================] - 21s 470ms/step - loss: 0.0320 - accuracy: 0.9830\n"
     ]
    },
    {
     "data": {
      "text/plain": [
       "<keras.callbacks.History at 0x183df85f910>"
      ]
     },
     "execution_count": 49,
     "metadata": {},
     "output_type": "execute_result"
    }
   ],
   "source": [
    "model1.fit(Train_set,epochs=10)"
   ]
  },
  {
   "cell_type": "code",
   "execution_count": 36,
   "id": "68305077",
   "metadata": {},
   "outputs": [
    {
     "name": "stdout",
     "output_type": "stream",
     "text": [
      "16/16 [==============================] - 2s 125ms/step - loss: 0.3114 - accuracy: 0.7500\n"
     ]
    },
    {
     "data": {
      "text/plain": [
       "[0.311408132314682, 0.75]"
      ]
     },
     "execution_count": 36,
     "metadata": {},
     "output_type": "execute_result"
    }
   ],
   "source": [
    "model1.evaluate(Test_set)"
   ]
  },
  {
   "cell_type": "code",
   "execution_count": null,
   "id": "75c8ca36",
   "metadata": {},
   "outputs": [],
   "source": []
  }
 ],
 "metadata": {
  "kernelspec": {
   "display_name": "Python 3 (ipykernel)",
   "language": "python",
   "name": "python3"
  },
  "language_info": {
   "codemirror_mode": {
    "name": "ipython",
    "version": 3
   },
   "file_extension": ".py",
   "mimetype": "text/x-python",
   "name": "python",
   "nbconvert_exporter": "python",
   "pygments_lexer": "ipython3",
   "version": "3.9.12"
  }
 },
 "nbformat": 4,
 "nbformat_minor": 5
}
