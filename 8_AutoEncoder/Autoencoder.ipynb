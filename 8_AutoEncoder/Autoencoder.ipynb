{
  "cells": [
    {
      "cell_type": "code",
      "execution_count": 1,
      "id": "bd51b4e6",
      "metadata": {
        "id": "bd51b4e6"
      },
      "outputs": [],
      "source": [
        "import keras\n",
        "from keras import layers\n",
        "from keras.datasets import mnist\n",
        "import numpy as np\n",
        "from keras.layers import Input"
      ]
    },
    {
      "cell_type": "code",
      "execution_count": 2,
      "id": "a574e32d",
      "metadata": {
        "id": "a574e32d"
      },
      "outputs": [],
      "source": [
        "encoding_dam = 32\n",
        "input_img = keras.Input(shape=(784,))"
      ]
    },
    {
      "cell_type": "code",
      "execution_count": 3,
      "id": "9657d2b9",
      "metadata": {
        "id": "9657d2b9",
        "colab": {
          "base_uri": "https://localhost:8080/"
        },
        "outputId": "3d53d87f-b594-4a37-8797-896c56404770"
      },
      "outputs": [
        {
          "output_type": "stream",
          "name": "stdout",
          "text": [
            "Downloading data from https://storage.googleapis.com/tensorflow/tf-keras-datasets/mnist.npz\n",
            "11490434/11490434 [==============================] - 0s 0us/step\n"
          ]
        }
      ],
      "source": [
        "(X_train, _),(X_test, _) = mnist.load_data()"
      ]
    },
    {
      "cell_type": "code",
      "execution_count": 4,
      "id": "9894d5e1",
      "metadata": {
        "colab": {
          "base_uri": "https://localhost:8080/"
        },
        "id": "9894d5e1",
        "outputId": "f0be72fe-5fa8-4362-a117-fd59b15585a5"
      },
      "outputs": [
        {
          "output_type": "stream",
          "name": "stdout",
          "text": [
            "(60000, 784)\n",
            "(10000, 784)\n"
          ]
        }
      ],
      "source": [
        "#cleaning and reshaping the data as required by the model\n",
        "X_train = X_train.astype('float32') / 255.\n",
        "X_test = X_test.astype('float32') / 255.\n",
        "X_train = X_train.reshape((len(X_train), np.prod(X_train.shape[1:])))\n",
        "X_test =  X_test.reshape((len(X_test), np.prod(X_test.shape[1:])))\n",
        "print(X_train.shape)\n",
        "print(X_test.shape)\n",
        "                          "
      ]
    },
    {
      "cell_type": "code",
      "execution_count": 5,
      "id": "732be077",
      "metadata": {
        "id": "732be077"
      },
      "outputs": [],
      "source": [
        "input_img = Input(shape=(784,))\n",
        "encoded = layers.Dense(128, activation='relu')(input_img)\n",
        "encoded = layers.Dense(64, activation='relu')(encoded)\n",
        "encoded = layers.Dense(32, activation='relu')(encoded)\n"
      ]
    },
    {
      "cell_type": "code",
      "execution_count": 6,
      "id": "ee6810f5",
      "metadata": {
        "id": "ee6810f5"
      },
      "outputs": [],
      "source": [
        "decoded = layers.Dense(64, activation='relu')(encoded)\n",
        "decoded = layers.Dense(128, activation='relu')(decoded)\n",
        "decoded = layers.Dense(784, activation='sigmoid')(decoded)"
      ]
    },
    {
      "cell_type": "code",
      "execution_count": 7,
      "id": "ec8b1b2d",
      "metadata": {
        "id": "ec8b1b2d"
      },
      "outputs": [],
      "source": [
        "autoencoder = keras.Model(input_img,decoded)"
      ]
    },
    {
      "cell_type": "code",
      "execution_count": 8,
      "id": "ef89b56f",
      "metadata": {
        "id": "ef89b56f"
      },
      "outputs": [],
      "source": [
        "autoencoder = keras.Model(input_img,decoded)\n",
        "autoencoder.compile(optimizer='adam', loss='binary_crossentropy')\n"
      ]
    },
    {
      "cell_type": "code",
      "execution_count": 9,
      "id": "813e87da",
      "metadata": {
        "colab": {
          "base_uri": "https://localhost:8080/"
        },
        "id": "813e87da",
        "outputId": "5fc5d5f7-3bbd-4c28-d304-bf1f8a435571"
      },
      "outputs": [
        {
          "output_type": "stream",
          "name": "stdout",
          "text": [
            "Epoch 1/50\n",
            "235/235 [==============================] - 4s 5ms/step - loss: 0.2600 - val_loss: 0.1724\n",
            "Epoch 2/50\n",
            "235/235 [==============================] - 1s 4ms/step - loss: 0.1522 - val_loss: 0.1379\n",
            "Epoch 3/50\n",
            "235/235 [==============================] - 1s 4ms/step - loss: 0.1327 - val_loss: 0.1260\n",
            "Epoch 4/50\n",
            "235/235 [==============================] - 2s 7ms/step - loss: 0.1247 - val_loss: 0.1201\n",
            "Epoch 5/50\n",
            "235/235 [==============================] - 2s 7ms/step - loss: 0.1190 - val_loss: 0.1150\n",
            "Epoch 6/50\n",
            "235/235 [==============================] - 2s 7ms/step - loss: 0.1140 - val_loss: 0.1105\n",
            "Epoch 7/50\n",
            "235/235 [==============================] - 2s 7ms/step - loss: 0.1101 - val_loss: 0.1075\n",
            "Epoch 8/50\n",
            "235/235 [==============================] - 2s 7ms/step - loss: 0.1074 - val_loss: 0.1054\n",
            "Epoch 9/50\n",
            "235/235 [==============================] - 2s 7ms/step - loss: 0.1051 - val_loss: 0.1032\n",
            "Epoch 10/50\n",
            "235/235 [==============================] - 2s 9ms/step - loss: 0.1031 - val_loss: 0.1012\n",
            "Epoch 11/50\n",
            "235/235 [==============================] - 2s 8ms/step - loss: 0.1015 - val_loss: 0.0999\n",
            "Epoch 12/50\n",
            "235/235 [==============================] - 2s 8ms/step - loss: 0.1001 - val_loss: 0.0984\n",
            "Epoch 13/50\n",
            "235/235 [==============================] - 2s 8ms/step - loss: 0.0989 - val_loss: 0.0970\n",
            "Epoch 14/50\n",
            "235/235 [==============================] - 1s 4ms/step - loss: 0.0977 - val_loss: 0.0960\n",
            "Epoch 15/50\n",
            "235/235 [==============================] - 1s 4ms/step - loss: 0.0967 - val_loss: 0.0953\n",
            "Epoch 16/50\n",
            "235/235 [==============================] - 1s 4ms/step - loss: 0.0958 - val_loss: 0.0943\n",
            "Epoch 17/50\n",
            "235/235 [==============================] - 1s 4ms/step - loss: 0.0950 - val_loss: 0.0934\n",
            "Epoch 18/50\n",
            "235/235 [==============================] - 1s 4ms/step - loss: 0.0943 - val_loss: 0.0930\n",
            "Epoch 19/50\n",
            "235/235 [==============================] - 1s 4ms/step - loss: 0.0937 - val_loss: 0.0929\n",
            "Epoch 20/50\n",
            "235/235 [==============================] - 1s 4ms/step - loss: 0.0931 - val_loss: 0.0925\n",
            "Epoch 21/50\n",
            "235/235 [==============================] - 1s 4ms/step - loss: 0.0926 - val_loss: 0.0916\n",
            "Epoch 22/50\n",
            "235/235 [==============================] - 1s 4ms/step - loss: 0.0922 - val_loss: 0.0911\n",
            "Epoch 23/50\n",
            "235/235 [==============================] - 1s 4ms/step - loss: 0.0917 - val_loss: 0.0907\n",
            "Epoch 24/50\n",
            "235/235 [==============================] - 1s 4ms/step - loss: 0.0914 - val_loss: 0.0904\n",
            "Epoch 25/50\n",
            "235/235 [==============================] - 1s 4ms/step - loss: 0.0910 - val_loss: 0.0904\n",
            "Epoch 26/50\n",
            "235/235 [==============================] - 1s 4ms/step - loss: 0.0907 - val_loss: 0.0898\n",
            "Epoch 27/50\n",
            "235/235 [==============================] - 1s 4ms/step - loss: 0.0904 - val_loss: 0.0899\n",
            "Epoch 28/50\n",
            "235/235 [==============================] - 1s 4ms/step - loss: 0.0902 - val_loss: 0.0895\n",
            "Epoch 29/50\n",
            "235/235 [==============================] - 1s 4ms/step - loss: 0.0898 - val_loss: 0.0893\n",
            "Epoch 30/50\n",
            "235/235 [==============================] - 1s 4ms/step - loss: 0.0895 - val_loss: 0.0887\n",
            "Epoch 31/50\n",
            "235/235 [==============================] - 1s 4ms/step - loss: 0.0892 - val_loss: 0.0890\n",
            "Epoch 32/50\n",
            "235/235 [==============================] - 1s 4ms/step - loss: 0.0888 - val_loss: 0.0880\n",
            "Epoch 33/50\n",
            "235/235 [==============================] - 1s 4ms/step - loss: 0.0886 - val_loss: 0.0877\n",
            "Epoch 34/50\n",
            "235/235 [==============================] - 1s 4ms/step - loss: 0.0883 - val_loss: 0.0876\n",
            "Epoch 35/50\n",
            "235/235 [==============================] - 1s 4ms/step - loss: 0.0880 - val_loss: 0.0877\n",
            "Epoch 36/50\n",
            "235/235 [==============================] - 1s 4ms/step - loss: 0.0879 - val_loss: 0.0872\n",
            "Epoch 37/50\n",
            "235/235 [==============================] - 1s 4ms/step - loss: 0.0876 - val_loss: 0.0870\n",
            "Epoch 38/50\n",
            "235/235 [==============================] - 1s 4ms/step - loss: 0.0874 - val_loss: 0.0871\n",
            "Epoch 39/50\n",
            "235/235 [==============================] - 1s 4ms/step - loss: 0.0873 - val_loss: 0.0872\n",
            "Epoch 40/50\n",
            "235/235 [==============================] - 1s 4ms/step - loss: 0.0871 - val_loss: 0.0863\n",
            "Epoch 41/50\n",
            "235/235 [==============================] - 1s 4ms/step - loss: 0.0869 - val_loss: 0.0862\n",
            "Epoch 42/50\n",
            "235/235 [==============================] - 1s 4ms/step - loss: 0.0867 - val_loss: 0.0862\n",
            "Epoch 43/50\n",
            "235/235 [==============================] - 1s 4ms/step - loss: 0.0866 - val_loss: 0.0859\n",
            "Epoch 44/50\n",
            "235/235 [==============================] - 1s 4ms/step - loss: 0.0864 - val_loss: 0.0858\n",
            "Epoch 45/50\n",
            "235/235 [==============================] - 1s 4ms/step - loss: 0.0862 - val_loss: 0.0856\n",
            "Epoch 46/50\n",
            "235/235 [==============================] - 1s 4ms/step - loss: 0.0861 - val_loss: 0.0856\n",
            "Epoch 47/50\n",
            "235/235 [==============================] - 1s 4ms/step - loss: 0.0860 - val_loss: 0.0853\n",
            "Epoch 48/50\n",
            "235/235 [==============================] - 1s 4ms/step - loss: 0.0858 - val_loss: 0.0853\n",
            "Epoch 49/50\n",
            "235/235 [==============================] - 1s 4ms/step - loss: 0.0857 - val_loss: 0.0853\n",
            "Epoch 50/50\n",
            "235/235 [==============================] - 1s 4ms/step - loss: 0.0855 - val_loss: 0.0853\n"
          ]
        }
      ],
      "source": [
        "history=autoencoder.fit(X_train, X_train,\n",
        "                       epochs=50,\n",
        "                       batch_size=256,\n",
        "                       shuffle=True,\n",
        "                       validation_data=(X_test, X_test))"
      ]
    },
    {
      "cell_type": "code",
      "execution_count": 10,
      "id": "119adca8",
      "metadata": {
        "colab": {
          "base_uri": "https://localhost:8080/"
        },
        "id": "119adca8",
        "outputId": "c84887e0-e9cc-4ce9-bfaf-78b759f436f7"
      },
      "outputs": [
        {
          "output_type": "stream",
          "name": "stdout",
          "text": [
            "313/313 [==============================] - 1s 2ms/step\n"
          ]
        }
      ],
      "source": [
        "encoded_imgs = autoencoder.predict(X_test)"
      ]
    },
    {
      "cell_type": "code",
      "source": [
        "autoencoder.summary()"
      ],
      "metadata": {
        "colab": {
          "base_uri": "https://localhost:8080/"
        },
        "id": "ZphIilQUDYvE",
        "outputId": "f6f660af-9fa5-4832-e285-ff0f77f1f7e0"
      },
      "id": "ZphIilQUDYvE",
      "execution_count": 11,
      "outputs": [
        {
          "output_type": "stream",
          "name": "stdout",
          "text": [
            "Model: \"model_1\"\n",
            "_________________________________________________________________\n",
            " Layer (type)                Output Shape              Param #   \n",
            "=================================================================\n",
            " input_2 (InputLayer)        [(None, 784)]             0         \n",
            "                                                                 \n",
            " dense (Dense)               (None, 128)               100480    \n",
            "                                                                 \n",
            " dense_1 (Dense)             (None, 64)                8256      \n",
            "                                                                 \n",
            " dense_2 (Dense)             (None, 32)                2080      \n",
            "                                                                 \n",
            " dense_3 (Dense)             (None, 64)                2112      \n",
            "                                                                 \n",
            " dense_4 (Dense)             (None, 128)               8320      \n",
            "                                                                 \n",
            " dense_5 (Dense)             (None, 784)               101136    \n",
            "                                                                 \n",
            "=================================================================\n",
            "Total params: 222,384\n",
            "Trainable params: 222,384\n",
            "Non-trainable params: 0\n",
            "_________________________________________________________________\n"
          ]
        }
      ]
    },
    {
      "cell_type": "code",
      "execution_count": 12,
      "id": "5eb58841",
      "metadata": {
        "colab": {
          "base_uri": "https://localhost:8080/",
          "height": 264
        },
        "id": "5eb58841",
        "outputId": "9cd4752c-5eed-4e72-f4a7-73ac20d76a5d"
      },
      "outputs": [
        {
          "output_type": "display_data",
          "data": {
            "text/plain": [
              "<Figure size 1440x288 with 20 Axes>"
            ],
            "image/png": "[encoded data removed]"
          },
          "metadata": {
            "needs_background": "light"
          }
        }
      ],
      "source": [
        "import matplotlib.pyplot as plt\n",
        "n=10  # how many digit we will display\n",
        "plt.figure(figsize=(20,4))\n",
        "for i in range(n):\n",
        "    #Display original\n",
        "    ax = plt.subplot(2, n, i+1)\n",
        "    plt.imshow(X_test[i].reshape(28,28))\n",
        "    plt.title(\"original\")\n",
        "    plt.gray()\n",
        "    ax.get_xaxis().set_visible(False)\n",
        "    ax.get_yaxis().set_visible(False)\n",
        "    \n",
        "    #display recostruction\n",
        "    ax = plt.subplot(2, n, i+1+n)\n",
        "    plt.imshow(X_test[i].reshape(28,28))\n",
        "    plt.title(\"reconstructed\")\n",
        "    plt.gray()\n",
        "    ax.get_xaxis().set_visible(False)\n",
        "    ax.get_yaxis().set_visible(False)\n",
        "plt.show()    "
      ]
    },
    {
      "cell_type": "code",
      "source": [
        "plt.plot(history.history['loss'], label='loss')\n",
        "plt.xlabel('Epoch')\n",
        "plt.ylabel('Loss')\n",
        "plt.ylim([0, 1])\n",
        "plt.legend(loc='lower right')"
      ],
      "metadata": {
        "colab": {
          "base_uri": "https://localhost:8080/",
          "height": 300
        },
        "id": "0hDM6dHNCqZL",
        "outputId": "405a0a67-ecf8-43f1-eb39-286a7cc9ce1e"
      },
      "id": "0hDM6dHNCqZL",
      "execution_count": 13,
      "outputs": [
        {
          "output_type": "execute_result",
          "data": {
            "text/plain": [
              "<matplotlib.legend.Legend at 0x7fcf660b1350>"
            ]
          },
          "metadata": {},
          "execution_count": 13
        },
        {
          "output_type": "display_data",
          "data": {
            "text/plain": [
              "<Figure size 432x288 with 1 Axes>"
            ],
            "image/png": "[encoded data removed]"
          },
          "metadata": {
            "needs_background": "light"
          }
        }
      ]
    }
  ],
  "metadata": {
    "kernelspec": {
      "display_name": "Python 3 (ipykernel)",
      "language": "python",
      "name": "python3"
    },
    "language_info": {
      "codemirror_mode": {
        "name": "ipython",
        "version": 3
      },
      "file_extension": ".py",
      "mimetype": "text/x-python",
      "name": "python",
      "nbconvert_exporter": "python",
      "pygments_lexer": "ipython3",
      "version": "3.9.7"
    },
    "colab": {
      "provenance": []
    },
    "accelerator": "GPU",
    "gpuClass": "standard"
  },
  "nbformat": 4,
  "nbformat_minor": 5
}