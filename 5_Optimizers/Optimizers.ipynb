{
  "nbformat": 4,
  "nbformat_minor": 0,
  "metadata": {
    "colab": {
      "provenance": []
    },
    "kernelspec": {
      "name": "python3",
      "display_name": "Python 3"
    },
    "language_info": {
      "name": "python"
    },
    "accelerator": "GPU",
    "gpuClass": "standard"
  },
  "cells": [
    {
      "cell_type": "code",
      "source": [
        "from tensorflow import keras\n",
        "from keras import datasets, layers, models\n",
        "import matplotlib.pyplot as plt\n",
        "%matplotlib inline\n",
        "import numpy as np"
      ],
      "metadata": {
        "id": "YwHxKFjiMVF3"
      },
      "execution_count": null,
      "outputs": []
    },
    {
      "cell_type": "code",
      "source": [
        "(X_train, y_train) , (X_test, y_test) = datasets.mnist.load_data()"
      ],
      "metadata": {
        "id": "RMX_CNNWMVCb"
      },
      "execution_count": null,
      "outputs": []
    },
    {
      "cell_type": "code",
      "source": [
        "X_train.shape"
      ],
      "metadata": {
        "colab": {
          "base_uri": "https://localhost:8080/"
        },
        "id": "Q9zS09DIMU_p",
        "outputId": "b5806e41-5433-40ff-fc1c-fb390c026ca9"
      },
      "execution_count": null,
      "outputs": [
        {
          "output_type": "execute_result",
          "data": {
            "text/plain": [
              "(60000, 28, 28)"
            ]
          },
          "metadata": {},
          "execution_count": 28
        }
      ]
    },
    {
      "cell_type": "code",
      "source": [
        "X_test.shape"
      ],
      "metadata": {
        "colab": {
          "base_uri": "https://localhost:8080/"
        },
        "id": "7xPmwxTsMU9D",
        "outputId": "bb6254dd-f879-494d-fdec-985edf11b250"
      },
      "execution_count": null,
      "outputs": [
        {
          "output_type": "execute_result",
          "data": {
            "text/plain": [
              "(10000, 28, 28)"
            ]
          },
          "metadata": {},
          "execution_count": 29
        }
      ]
    },
    {
      "cell_type": "code",
      "source": [
        "X_train[0].shape"
      ],
      "metadata": {
        "colab": {
          "base_uri": "https://localhost:8080/"
        },
        "id": "8tom4xd_MU6W",
        "outputId": "9925ea5f-b813-467d-d03b-4bd583e9748c"
      },
      "execution_count": null,
      "outputs": [
        {
          "output_type": "execute_result",
          "data": {
            "text/plain": [
              "(28, 28)"
            ]
          },
          "metadata": {},
          "execution_count": 30
        }
      ]
    },
    {
      "cell_type": "code",
      "source": [
        "plt.matshow(X_train[0])"
      ],
      "metadata": {
        "colab": {
          "base_uri": "https://localhost:8080/",
          "height": 292
        },
        "id": "Am2P22NGMU3h",
        "outputId": "563afb40-cfd3-453f-c301-5e2d038507f6"
      },
      "execution_count": null,
      "outputs": [
        {
          "output_type": "execute_result",
          "data": {
            "text/plain": [
              "<matplotlib.image.AxesImage at 0x7ff9661fe610>"
            ]
          },
          "metadata": {},
          "execution_count": 31
        },
        {
          "output_type": "display_data",
          "data": {
            "text/plain": [
              "<Figure size 288x288 with 1 Axes>"
            ],
            "image/png": "[encoded data removed]"
          },
          "metadata": {
            "needs_background": "light"
          }
        }
      ]
    },
    {
      "cell_type": "code",
      "source": [
        "y_train[0]"
      ],
      "metadata": {
        "colab": {
          "base_uri": "https://localhost:8080/"
        },
        "id": "XfZ69JARMU0v",
        "outputId": "d8ac114b-9ca8-43a0-8992-f7fa3ea528cd"
      },
      "execution_count": null,
      "outputs": [
        {
          "output_type": "execute_result",
          "data": {
            "text/plain": [
              "5"
            ]
          },
          "metadata": {},
          "execution_count": 32
        }
      ]
    },
    {
      "cell_type": "code",
      "source": [
        "X_train = X_train / 255\n",
        "X_test = X_test / 255"
      ],
      "metadata": {
        "id": "_7ZZ0AsDMUyJ"
      },
      "execution_count": null,
      "outputs": []
    },
    {
      "cell_type": "code",
      "source": [
        "cnn = keras.Sequential([\n",
        "    \n",
        "    layers.Conv2D(30, (3,3), activation='relu', input_shape=(28, 28, 1)),\n",
        "    layers.MaxPooling2D((2,2)),\n",
        " \n",
        "    layers.Flatten(),\n",
        "    layers.Dense(100, activation='relu'),\n",
        "    keras.layers.Dense(10, activation='sigmoid')\n",
        "])"
      ],
      "metadata": {
        "id": "Ee7jri0MMUvm"
      },
      "execution_count": null,
      "outputs": []
    },
    {
      "cell_type": "markdown",
      "source": [
        "Adam"
      ],
      "metadata": {
        "id": "UiB1UcFUOEY3"
      }
    },
    {
      "cell_type": "code",
      "source": [
        "cnn.compile(optimizer='adam', loss='sparse_categorical_crossentropy', metrics=['accuracy'])"
      ],
      "metadata": {
        "id": "-WUxnQD2M29I"
      },
      "execution_count": null,
      "outputs": []
    },
    {
      "cell_type": "code",
      "source": [
        "history = cnn.fit(X_train, y_train,\n",
        "          batch_size=128, epochs=10,\n",
        "          verbose=2,\n",
        "          validation_data=(X_test, y_test))"
      ],
      "metadata": {
        "colab": {
          "base_uri": "https://localhost:8080/"
        },
        "id": "n0r9vta_M2zw",
        "outputId": "4614fd87-937a-4d01-db5d-0e82d42de345"
      },
      "execution_count": null,
      "outputs": [
        {
          "output_type": "stream",
          "name": "stdout",
          "text": [
            "Epoch 1/10\n",
            "469/469 - 2s - loss: 0.2362 - accuracy: 0.9337 - val_loss: 0.0971 - val_accuracy: 0.9713 - 2s/epoch - 5ms/step\n",
            "Epoch 2/10\n",
            "469/469 - 2s - loss: 0.0730 - accuracy: 0.9791 - val_loss: 0.0648 - val_accuracy: 0.9787 - 2s/epoch - 4ms/step\n",
            "Epoch 3/10\n",
            "469/469 - 2s - loss: 0.0496 - accuracy: 0.9855 - val_loss: 0.0519 - val_accuracy: 0.9827 - 2s/epoch - 4ms/step\n",
            "Epoch 4/10\n",
            "469/469 - 2s - loss: 0.0364 - accuracy: 0.9889 - val_loss: 0.0699 - val_accuracy: 0.9771 - 2s/epoch - 4ms/step\n",
            "Epoch 5/10\n",
            "469/469 - 2s - loss: 0.0287 - accuracy: 0.9918 - val_loss: 0.0432 - val_accuracy: 0.9849 - 2s/epoch - 4ms/step\n",
            "Epoch 6/10\n",
            "469/469 - 2s - loss: 0.0215 - accuracy: 0.9937 - val_loss: 0.0477 - val_accuracy: 0.9848 - 2s/epoch - 3ms/step\n",
            "Epoch 7/10\n",
            "469/469 - 2s - loss: 0.0164 - accuracy: 0.9953 - val_loss: 0.0466 - val_accuracy: 0.9861 - 2s/epoch - 4ms/step\n",
            "Epoch 8/10\n",
            "469/469 - 2s - loss: 0.0126 - accuracy: 0.9965 - val_loss: 0.0424 - val_accuracy: 0.9878 - 2s/epoch - 3ms/step\n",
            "Epoch 9/10\n",
            "469/469 - 2s - loss: 0.0094 - accuracy: 0.9975 - val_loss: 0.0444 - val_accuracy: 0.9875 - 2s/epoch - 4ms/step\n",
            "Epoch 10/10\n",
            "469/469 - 2s - loss: 0.0074 - accuracy: 0.9978 - val_loss: 0.0428 - val_accuracy: 0.9864 - 2s/epoch - 4ms/step\n"
          ]
        }
      ]
    },
    {
      "cell_type": "code",
      "source": [
        "history.history"
      ],
      "metadata": {
        "colab": {
          "base_uri": "https://localhost:8080/"
        },
        "id": "bIRV1fUcM2w8",
        "outputId": "9bc75e63-08f7-4584-fd15-3a3c933760e1"
      },
      "execution_count": null,
      "outputs": [
        {
          "output_type": "execute_result",
          "data": {
            "text/plain": [
              "{'loss': [0.2362440526485443,\n",
              "  0.0729859471321106,\n",
              "  0.049578551203012466,\n",
              "  0.03637620806694031,\n",
              "  0.028720343485474586,\n",
              "  0.021548032760620117,\n",
              "  0.01641750894486904,\n",
              "  0.012573408894240856,\n",
              "  0.00936191901564598,\n",
              "  0.0074496823363006115],\n",
              " 'accuracy': [0.9336833357810974,\n",
              "  0.979116678237915,\n",
              "  0.9854833483695984,\n",
              "  0.9889333248138428,\n",
              "  0.9918000102043152,\n",
              "  0.9937166571617126,\n",
              "  0.995283305644989,\n",
              "  0.9965166449546814,\n",
              "  0.9975166916847229,\n",
              "  0.997783362865448],\n",
              " 'val_loss': [0.09707227349281311,\n",
              "  0.06481601297855377,\n",
              "  0.05189620330929756,\n",
              "  0.06989283114671707,\n",
              "  0.043224185705184937,\n",
              "  0.04773227497935295,\n",
              "  0.04655541852116585,\n",
              "  0.04244042560458183,\n",
              "  0.04437398165464401,\n",
              "  0.042764317244291306],\n",
              " 'val_accuracy': [0.9713000059127808,\n",
              "  0.9786999821662903,\n",
              "  0.982699990272522,\n",
              "  0.9771000146865845,\n",
              "  0.9848999977111816,\n",
              "  0.9847999811172485,\n",
              "  0.9861000180244446,\n",
              "  0.9878000020980835,\n",
              "  0.987500011920929,\n",
              "  0.9864000082015991]}"
            ]
          },
          "metadata": {},
          "execution_count": 37
        }
      ]
    },
    {
      "cell_type": "code",
      "source": [
        "fig = plt.figure()\n",
        "plt.subplot(2,1,1)\n",
        "plt.plot(history.history['accuracy'])\n",
        "plt.plot(history.history['val_accuracy'])\n",
        "plt.title('model accuracy')\n",
        "plt.ylabel('accuracy')\n",
        "plt.xlabel('epoch')\n",
        "plt.legend(['train', 'test'], loc='lower right')\n",
        "\n",
        "plt.subplot(2,1,2)\n",
        "plt.plot(history.history['loss'])\n",
        "plt.plot(history.history['val_loss'])\n",
        "plt.title('model loss')\n",
        "plt.ylabel('loss')\n",
        "plt.xlabel('epoch')\n",
        "plt.legend(['train', 'test'], loc='upper right')\n",
        "\n",
        "plt.tight_layout()"
      ],
      "metadata": {
        "colab": {
          "base_uri": "https://localhost:8080/",
          "height": 297
        },
        "id": "VSw-RAUlM2uE",
        "outputId": "6c782df5-7641-4f35-f368-29b543c498af"
      },
      "execution_count": null,
      "outputs": [
        {
          "output_type": "display_data",
          "data": {
            "text/plain": [
              "<Figure size 432x288 with 2 Axes>"
            ],
            "image/png": "[encoded data removed]"
          },
          "metadata": {
            "needs_background": "light"
          }
        }
      ]
    },
    {
      "cell_type": "markdown",
      "source": [
        "Adadelta"
      ],
      "metadata": {
        "id": "v8dDzFT1QN8s"
      }
    },
    {
      "cell_type": "code",
      "source": [
        "cnn.compile(optimizer='adadelta', loss='sparse_categorical_crossentropy', metrics=['accuracy'])"
      ],
      "metadata": {
        "id": "LOs75-g1M2rM"
      },
      "execution_count": null,
      "outputs": []
    },
    {
      "cell_type": "code",
      "source": [
        "history = cnn.fit(X_train, y_train,\n",
        "batch_size=128, epochs=10,\n",
        "verbose=2,\n",
        "validation_data=(X_test, y_test))"
      ],
      "metadata": {
        "colab": {
          "base_uri": "https://localhost:8080/"
        },
        "id": "XF1s4Hp5OIPW",
        "outputId": "74068720-d0ae-4fb2-c5bc-c5f43d4e3f9c"
      },
      "execution_count": null,
      "outputs": [
        {
          "output_type": "stream",
          "name": "stdout",
          "text": [
            "Epoch 1/10\n",
            "469/469 - 2s - loss: 0.0053 - accuracy: 0.9987 - val_loss: 0.0426 - val_accuracy: 0.9864 - 2s/epoch - 5ms/step\n",
            "Epoch 2/10\n",
            "469/469 - 2s - loss: 0.0052 - accuracy: 0.9988 - val_loss: 0.0425 - val_accuracy: 0.9864 - 2s/epoch - 4ms/step\n",
            "Epoch 3/10\n",
            "469/469 - 2s - loss: 0.0051 - accuracy: 0.9988 - val_loss: 0.0423 - val_accuracy: 0.9865 - 2s/epoch - 4ms/step\n",
            "Epoch 4/10\n",
            "469/469 - 2s - loss: 0.0050 - accuracy: 0.9989 - val_loss: 0.0422 - val_accuracy: 0.9866 - 2s/epoch - 4ms/step\n",
            "Epoch 5/10\n",
            "469/469 - 2s - loss: 0.0049 - accuracy: 0.9989 - val_loss: 0.0421 - val_accuracy: 0.9866 - 2s/epoch - 4ms/step\n",
            "Epoch 6/10\n",
            "469/469 - 2s - loss: 0.0048 - accuracy: 0.9989 - val_loss: 0.0420 - val_accuracy: 0.9866 - 2s/epoch - 4ms/step\n",
            "Epoch 7/10\n",
            "469/469 - 2s - loss: 0.0048 - accuracy: 0.9990 - val_loss: 0.0420 - val_accuracy: 0.9867 - 2s/epoch - 4ms/step\n",
            "Epoch 8/10\n",
            "469/469 - 2s - loss: 0.0047 - accuracy: 0.9990 - val_loss: 0.0419 - val_accuracy: 0.9868 - 2s/epoch - 4ms/step\n",
            "Epoch 9/10\n",
            "469/469 - 2s - loss: 0.0046 - accuracy: 0.9990 - val_loss: 0.0418 - val_accuracy: 0.9868 - 2s/epoch - 4ms/step\n",
            "Epoch 10/10\n",
            "469/469 - 2s - loss: 0.0046 - accuracy: 0.9990 - val_loss: 0.0417 - val_accuracy: 0.9869 - 2s/epoch - 4ms/step\n"
          ]
        }
      ]
    },
    {
      "cell_type": "code",
      "source": [
        "fig = plt.figure()\n",
        "plt.subplot(2,1,1)\n",
        "plt.plot(history.history['accuracy'])\n",
        "plt.plot(history.history['val_accuracy'])\n",
        "plt.title('model accuracy')\n",
        "plt.ylabel('accuracy')\n",
        "plt.xlabel('epoch')\n",
        "plt.legend(['train', 'test'], loc='lower right')\n",
        "\n",
        "plt.subplot(2,1,2)\n",
        "plt.plot(history.history['loss'])\n",
        "plt.plot(history.history['val_loss'])\n",
        "plt.title('model loss')\n",
        "plt.ylabel('loss')\n",
        "plt.xlabel('epoch')\n",
        "plt.legend(['train', 'test'], loc='upper right')\n",
        "\n",
        "plt.tight_layout()"
      ],
      "metadata": {
        "colab": {
          "base_uri": "https://localhost:8080/",
          "height": 297
        },
        "id": "USLnHFL9S2yg",
        "outputId": "6fe8b8c0-ac4d-4ab7-b76a-84970335be8b"
      },
      "execution_count": null,
      "outputs": [
        {
          "output_type": "display_data",
          "data": {
            "text/plain": [
              "<Figure size 432x288 with 2 Axes>"
            ],
            "image/png": "[encoded data removed]"
          },
          "metadata": {
            "needs_background": "light"
          }
        }
      ]
    },
    {
      "cell_type": "markdown",
      "source": [
        "Adagrad"
      ],
      "metadata": {
        "id": "iyuxsLDeRqt0"
      }
    },
    {
      "cell_type": "code",
      "source": [
        "cnn.compile(optimizer='adagrad', loss='sparse_categorical_crossentropy', metrics=['accuracy'])"
      ],
      "metadata": {
        "id": "MbvOsi3OOIMM"
      },
      "execution_count": null,
      "outputs": []
    },
    {
      "cell_type": "code",
      "source": [
        "history = cnn.fit(X_train, y_train,\n",
        "batch_size=128, epochs=10,\n",
        "verbose=2,\n",
        "validation_data=(X_test, y_test))"
      ],
      "metadata": {
        "colab": {
          "base_uri": "https://localhost:8080/"
        },
        "id": "fE9yaYusOIDM",
        "outputId": "0b938db3-723a-4a1a-e5be-42b26bd144c9"
      },
      "execution_count": null,
      "outputs": [
        {
          "output_type": "stream",
          "name": "stdout",
          "text": [
            "Epoch 1/10\n",
            "469/469 - 2s - loss: 0.0042 - accuracy: 0.9991 - val_loss: 0.0414 - val_accuracy: 0.9872 - 2s/epoch - 5ms/step\n",
            "Epoch 2/10\n",
            "469/469 - 2s - loss: 0.0039 - accuracy: 0.9992 - val_loss: 0.0410 - val_accuracy: 0.9873 - 2s/epoch - 4ms/step\n",
            "Epoch 3/10\n",
            "469/469 - 2s - loss: 0.0037 - accuracy: 0.9993 - val_loss: 0.0409 - val_accuracy: 0.9872 - 2s/epoch - 4ms/step\n",
            "Epoch 4/10\n",
            "469/469 - 2s - loss: 0.0036 - accuracy: 0.9993 - val_loss: 0.0410 - val_accuracy: 0.9872 - 2s/epoch - 4ms/step\n",
            "Epoch 5/10\n",
            "469/469 - 2s - loss: 0.0035 - accuracy: 0.9993 - val_loss: 0.0409 - val_accuracy: 0.9870 - 2s/epoch - 4ms/step\n",
            "Epoch 6/10\n",
            "469/469 - 2s - loss: 0.0034 - accuracy: 0.9993 - val_loss: 0.0409 - val_accuracy: 0.9869 - 2s/epoch - 3ms/step\n",
            "Epoch 7/10\n",
            "469/469 - 2s - loss: 0.0033 - accuracy: 0.9993 - val_loss: 0.0409 - val_accuracy: 0.9869 - 2s/epoch - 4ms/step\n",
            "Epoch 8/10\n",
            "469/469 - 2s - loss: 0.0033 - accuracy: 0.9994 - val_loss: 0.0410 - val_accuracy: 0.9867 - 2s/epoch - 4ms/step\n",
            "Epoch 9/10\n",
            "469/469 - 2s - loss: 0.0032 - accuracy: 0.9994 - val_loss: 0.0410 - val_accuracy: 0.9868 - 2s/epoch - 4ms/step\n",
            "Epoch 10/10\n",
            "469/469 - 2s - loss: 0.0032 - accuracy: 0.9994 - val_loss: 0.0410 - val_accuracy: 0.9869 - 2s/epoch - 4ms/step\n"
          ]
        }
      ]
    },
    {
      "cell_type": "code",
      "source": [
        "fig = plt.figure()\n",
        "plt.subplot(2,1,1)\n",
        "plt.plot(history.history['accuracy'])\n",
        "plt.plot(history.history['val_accuracy'])\n",
        "plt.title('model accuracy')\n",
        "plt.ylabel('accuracy')\n",
        "plt.xlabel('epoch')\n",
        "plt.legend(['train', 'test'], loc='lower right')\n",
        "\n",
        "plt.subplot(2,1,2)\n",
        "plt.plot(history.history['loss'])\n",
        "plt.plot(history.history['val_loss'])\n",
        "plt.title('model loss')\n",
        "plt.ylabel('loss')\n",
        "plt.xlabel('epoch')\n",
        "plt.legend(['train', 'test'], loc='upper right')\n",
        "\n",
        "plt.tight_layout()"
      ],
      "metadata": {
        "colab": {
          "base_uri": "https://localhost:8080/",
          "height": 297
        },
        "id": "34XdnBtFVyex",
        "outputId": "7c406ba2-a8c2-488e-c6d4-a1dee813618c"
      },
      "execution_count": null,
      "outputs": [
        {
          "output_type": "display_data",
          "data": {
            "text/plain": [
              "<Figure size 432x288 with 2 Axes>"
            ],
            "image/png": "[encoded data removed]"
          },
          "metadata": {
            "needs_background": "light"
          }
        }
      ]
    },
    {
      "cell_type": "markdown",
      "source": [
        "RMSprop"
      ],
      "metadata": {
        "id": "Gq02EdaLSAAy"
      }
    },
    {
      "cell_type": "code",
      "source": [
        "cnn.compile(optimizer='RMSprop', loss='sparse_categorical_crossentropy', metrics=['accuracy'])"
      ],
      "metadata": {
        "id": "RKk7DpVrSFLp"
      },
      "execution_count": null,
      "outputs": []
    },
    {
      "cell_type": "code",
      "source": [
        "history = cnn.fit(X_train, y_train,\n",
        "batch_size=128, epochs=10,\n",
        "verbose=2,\n",
        "validation_data=(X_test, y_test))"
      ],
      "metadata": {
        "colab": {
          "base_uri": "https://localhost:8080/"
        },
        "id": "PfwS79x8OH_8",
        "outputId": "2028ec9b-07d9-410f-9182-7f968a51a759"
      },
      "execution_count": null,
      "outputs": [
        {
          "output_type": "stream",
          "name": "stdout",
          "text": [
            "Epoch 1/10\n",
            "469/469 - 2s - loss: 0.0070 - accuracy: 0.9980 - val_loss: 0.0453 - val_accuracy: 0.9878 - 2s/epoch - 5ms/step\n",
            "Epoch 2/10\n",
            "469/469 - 2s - loss: 0.0051 - accuracy: 0.9986 - val_loss: 0.0478 - val_accuracy: 0.9875 - 2s/epoch - 4ms/step\n",
            "Epoch 3/10\n",
            "469/469 - 2s - loss: 0.0037 - accuracy: 0.9989 - val_loss: 0.0535 - val_accuracy: 0.9860 - 2s/epoch - 4ms/step\n",
            "Epoch 4/10\n",
            "469/469 - 2s - loss: 0.0029 - accuracy: 0.9991 - val_loss: 0.0492 - val_accuracy: 0.9860 - 2s/epoch - 4ms/step\n",
            "Epoch 5/10\n",
            "469/469 - 2s - loss: 0.0023 - accuracy: 0.9994 - val_loss: 0.0650 - val_accuracy: 0.9851 - 2s/epoch - 4ms/step\n",
            "Epoch 6/10\n",
            "469/469 - 2s - loss: 0.0019 - accuracy: 0.9994 - val_loss: 0.0546 - val_accuracy: 0.9870 - 2s/epoch - 4ms/step\n",
            "Epoch 7/10\n",
            "469/469 - 2s - loss: 0.0013 - accuracy: 0.9997 - val_loss: 0.0633 - val_accuracy: 0.9880 - 2s/epoch - 4ms/step\n",
            "Epoch 8/10\n",
            "469/469 - 2s - loss: 0.0011 - accuracy: 0.9998 - val_loss: 0.0667 - val_accuracy: 0.9873 - 2s/epoch - 4ms/step\n",
            "Epoch 9/10\n",
            "469/469 - 2s - loss: 8.2055e-04 - accuracy: 0.9998 - val_loss: 0.0657 - val_accuracy: 0.9874 - 2s/epoch - 4ms/step\n",
            "Epoch 10/10\n",
            "469/469 - 2s - loss: 8.1315e-04 - accuracy: 0.9998 - val_loss: 0.0734 - val_accuracy: 0.9863 - 2s/epoch - 4ms/step\n"
          ]
        }
      ]
    },
    {
      "cell_type": "code",
      "source": [
        "fig = plt.figure()\n",
        "plt.subplot(2,1,1)\n",
        "plt.plot(history.history['accuracy'])\n",
        "plt.plot(history.history['val_accuracy'])\n",
        "plt.title('model accuracy')\n",
        "plt.ylabel('accuracy')\n",
        "plt.xlabel('epoch')\n",
        "plt.legend(['train', 'test'], loc='lower right')\n",
        "\n",
        "plt.subplot(2,1,2)\n",
        "plt.plot(history.history['loss'])\n",
        "plt.plot(history.history['val_loss'])\n",
        "plt.title('model loss')\n",
        "plt.ylabel('loss')\n",
        "plt.xlabel('epoch')\n",
        "plt.legend(['train', 'test'], loc='upper right')\n",
        "\n",
        "plt.tight_layout()"
      ],
      "metadata": {
        "colab": {
          "base_uri": "https://localhost:8080/",
          "height": 297
        },
        "id": "8J4X1eQVV1H3",
        "outputId": "ed3b35a5-5bad-4180-b4b1-1d36d47e3d8c"
      },
      "execution_count": null,
      "outputs": [
        {
          "output_type": "display_data",
          "data": {
            "text/plain": [
              "<Figure size 432x288 with 2 Axes>"
            ],
            "image/png": "[encoded data removed]"
          },
          "metadata": {
            "needs_background": "light"
          }
        }
      ]
    },
    {
      "cell_type": "markdown",
      "source": [
        "Nadam"
      ],
      "metadata": {
        "id": "TqFSDvdRSPbv"
      }
    },
    {
      "cell_type": "code",
      "source": [
        "cnn.compile(optimizer='Nadam', loss='sparse_categorical_crossentropy', metrics=['accuracy'])"
      ],
      "metadata": {
        "id": "LQm5N5VgSU6C"
      },
      "execution_count": null,
      "outputs": []
    },
    {
      "cell_type": "code",
      "source": [
        "history = cnn.fit(X_train, y_train,\n",
        "batch_size=128, epochs=10,\n",
        "verbose=2,\n",
        "validation_data=(X_test, y_test))"
      ],
      "metadata": {
        "colab": {
          "base_uri": "https://localhost:8080/"
        },
        "id": "Gte5aLuoSYrd",
        "outputId": "a85bae44-396d-4c65-982b-d07836223dfe"
      },
      "execution_count": null,
      "outputs": [
        {
          "output_type": "stream",
          "name": "stdout",
          "text": [
            "Epoch 1/10\n",
            "469/469 - 3s - loss: 0.0027 - accuracy: 0.9989 - val_loss: 0.0687 - val_accuracy: 0.9861 - 3s/epoch - 6ms/step\n",
            "Epoch 2/10\n",
            "469/469 - 2s - loss: 0.0016 - accuracy: 0.9995 - val_loss: 0.0759 - val_accuracy: 0.9854 - 2s/epoch - 4ms/step\n",
            "Epoch 3/10\n",
            "469/469 - 2s - loss: 0.0052 - accuracy: 0.9984 - val_loss: 0.0679 - val_accuracy: 0.9875 - 2s/epoch - 4ms/step\n",
            "Epoch 4/10\n",
            "469/469 - 2s - loss: 0.0014 - accuracy: 0.9995 - val_loss: 0.0726 - val_accuracy: 0.9871 - 2s/epoch - 5ms/step\n",
            "Epoch 5/10\n",
            "469/469 - 2s - loss: 0.0015 - accuracy: 0.9995 - val_loss: 0.0723 - val_accuracy: 0.9874 - 2s/epoch - 5ms/step\n",
            "Epoch 6/10\n",
            "469/469 - 2s - loss: 0.0012 - accuracy: 0.9996 - val_loss: 0.0895 - val_accuracy: 0.9845 - 2s/epoch - 5ms/step\n",
            "Epoch 7/10\n",
            "469/469 - 2s - loss: 0.0035 - accuracy: 0.9988 - val_loss: 0.0799 - val_accuracy: 0.9849 - 2s/epoch - 4ms/step\n",
            "Epoch 8/10\n",
            "469/469 - 2s - loss: 0.0028 - accuracy: 0.9991 - val_loss: 0.0813 - val_accuracy: 0.9853 - 2s/epoch - 4ms/step\n",
            "Epoch 9/10\n",
            "469/469 - 2s - loss: 0.0016 - accuracy: 0.9995 - val_loss: 0.0727 - val_accuracy: 0.9870 - 2s/epoch - 4ms/step\n",
            "Epoch 10/10\n",
            "469/469 - 2s - loss: 0.0012 - accuracy: 0.9997 - val_loss: 0.0809 - val_accuracy: 0.9862 - 2s/epoch - 4ms/step\n"
          ]
        }
      ]
    },
    {
      "cell_type": "code",
      "source": [
        "fig = plt.figure()\n",
        "plt.subplot(2,1,1)\n",
        "plt.plot(history.history['accuracy'])\n",
        "plt.plot(history.history['val_accuracy'])\n",
        "plt.title('model accuracy')\n",
        "plt.ylabel('accuracy')\n",
        "plt.xlabel('epoch')\n",
        "plt.legend(['train', 'test'], loc='lower right')\n",
        "\n",
        "plt.subplot(2,1,2)\n",
        "plt.plot(history.history['loss'])\n",
        "plt.plot(history.history['val_loss'])\n",
        "plt.title('model loss')\n",
        "plt.ylabel('loss')\n",
        "plt.xlabel('epoch')\n",
        "plt.legend(['train', 'test'], loc='upper right')\n",
        "\n",
        "plt.tight_layout()"
      ],
      "metadata": {
        "colab": {
          "base_uri": "https://localhost:8080/",
          "height": 297
        },
        "id": "C3DNlLfHV3mo",
        "outputId": "295aa6b8-3242-4b38-f268-26d7f8f609c5"
      },
      "execution_count": null,
      "outputs": [
        {
          "output_type": "display_data",
          "data": {
            "text/plain": [
              "<Figure size 432x288 with 2 Axes>"
            ],
            "image/png": "[encoded data removed]"
          },
          "metadata": {
            "needs_background": "light"
          }
        }
      ]
    }
  ]
}